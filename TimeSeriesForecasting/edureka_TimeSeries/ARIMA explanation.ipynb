{
 "cells": [
  {
   "cell_type": "code",
   "execution_count": null,
   "id": "ba28e594-05e4-47b4-b2f9-f57361afe686",
   "metadata": {},
   "outputs": [],
   "source": [
    "# 1. Why Time Series?\n",
    "# 2. What is Time Series?\n",
    "# 3. Components of Time Series\n",
    "# 4. When not to use Time Series\n",
    "# 5. What is Stationarity?\n",
    "# 6. ARIMA Model\n",
    "# 7. Demo: Forecast Future\n"
   ]
  },
  {
   "cell_type": "code",
   "execution_count": null,
   "id": "ceb0e1c3-2002-48e8-8a9c-7c1d2f7e9fb4",
   "metadata": {},
   "outputs": [],
   "source": [
    "#what is stationarity\n",
    "#constant mean\n",
    "#constant variance\n",
    "#auto covariance\n",
    "\n",
    "#checking stationarity\n",
    "#plot Moving Average and see visually if it is moving\n",
    "#ACDF - augmented dickey fuller test (hypothesis testing), if p-value<0.05, then we declare it is stationary\n",
    "#H0: ts is non-stationary\n",
    "\n",
    "#only if data is stationary, we can apply time series analysis"
   ]
  },
  {
   "cell_type": "code",
   "execution_count": null,
   "id": "480ba0e8-3821-4fbf-a275-f00e060bf990",
   "metadata": {},
   "outputs": [],
   "source": [
    "#what is ARIMA model - combo of 2 models AR and MA\n",
    "# AR = auto regression\n",
    "# MA = moving average\n",
    "# I= integration\n",
    "\n",
    "#AR = correlation between the prev time period with the current time period, we average out such noise..\n",
    "\n",
    "#ARIMA has 3 parameters\n",
    "#p = AR = auto-regressive lags\n",
    "#q = MA = moving average \n",
    "#d = order of differentiation\n",
    "\n",
    "#if differentiation in order of 1, then d=1.. otherwise d=2,3,..etc\n",
    "\n",
    "# to predict the value of p --- we use a PACF graph (Partial auto correlation graph)\n",
    "# to predict the value of q --- we use ACF graph (auto correlation graph)"
   ]
  },
  {
   "cell_type": "code",
   "execution_count": null,
   "id": "7041b1ae-0a2c-447e-ac3a-fbdcab901022",
   "metadata": {},
   "outputs": [],
   "source": []
  },
  {
   "cell_type": "code",
   "execution_count": null,
   "id": "e6d0a2cc-1a75-47da-81a7-a719dbf80d59",
   "metadata": {},
   "outputs": [],
   "source": []
  }
 ],
 "metadata": {
  "kernelspec": {
   "display_name": "Python 3 (ipykernel)",
   "language": "python",
   "name": "python3"
  },
  "language_info": {
   "codemirror_mode": {
    "name": "ipython",
    "version": 3
   },
   "file_extension": ".py",
   "mimetype": "text/x-python",
   "name": "python",
   "nbconvert_exporter": "python",
   "pygments_lexer": "ipython3",
   "version": "3.9.16"
  }
 },
 "nbformat": 4,
 "nbformat_minor": 5
}
