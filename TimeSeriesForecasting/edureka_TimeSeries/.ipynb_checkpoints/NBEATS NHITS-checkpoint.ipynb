{
 "cells": [
  {
   "cell_type": "code",
   "execution_count": null,
   "id": "6e9ccc41-1c0f-42dc-b12f-2c46d68e74cf",
   "metadata": {},
   "outputs": [],
   "source": [
    "#NBEATS, NHiTS - https://colab.research.google.com/github/Nixtla/neuralforecast/blob/main/nbs/examples/Getting_Started.ipynb#scrollTo=jZ2TlglU5xlg\n",
    "\n",
    "#GITHUB - https://github.com/Nixtla -- timeseries ecosystem -- all ml, dl, econometric models, NBEATS, NHiTS"
   ]
  },
  {
   "cell_type": "code",
   "execution_count": null,
   "id": "03d8be52-ba97-47a6-824c-518a2d16ed82",
   "metadata": {},
   "outputs": [],
   "source": [
    "#DeepAR - https://forecastegy.com/posts/multiple-time-series-forecasting-with-deepar-in-python/#:~:text=DeepAR%20is%20a%20deep%20learning,separate%20model%20for%20each%20one."
   ]
  }
 ],
 "metadata": {
  "kernelspec": {
   "display_name": "Python 3 (ipykernel)",
   "language": "python",
   "name": "python3"
  },
  "language_info": {
   "codemirror_mode": {
    "name": "ipython",
    "version": 3
   },
   "file_extension": ".py",
   "mimetype": "text/x-python",
   "name": "python",
   "nbconvert_exporter": "python",
   "pygments_lexer": "ipython3",
   "version": "3.9.16"
  }
 },
 "nbformat": 4,
 "nbformat_minor": 5
}
