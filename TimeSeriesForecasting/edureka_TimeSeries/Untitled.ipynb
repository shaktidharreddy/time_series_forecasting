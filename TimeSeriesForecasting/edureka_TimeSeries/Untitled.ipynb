{
 "cells": [
  {
   "cell_type": "code",
   "execution_count": null,
   "id": "8ebf633d-ee70-4dad-b09f-dbf4b1889dd9",
   "metadata": {},
   "outputs": [],
   "source": [
    "#https://goldinlocks.github.io/Multivariate-time-series-models/\n",
    "\n",
    "VAR model notebook, pl explore this.. has good example"
   ]
  }
 ],
 "metadata": {
  "kernelspec": {
   "display_name": "Python 3 (ipykernel)",
   "language": "python",
   "name": "python3"
  },
  "language_info": {
   "codemirror_mode": {
    "name": "ipython",
    "version": 3
   },
   "file_extension": ".py",
   "mimetype": "text/x-python",
   "name": "python",
   "nbconvert_exporter": "python",
   "pygments_lexer": "ipython3",
   "version": "3.9.16"
  }
 },
 "nbformat": 4,
 "nbformat_minor": 5
}
