{
 "cells": [
  {
   "cell_type": "code",
   "execution_count": 15,
   "id": "b2abae93-3ec4-42da-9030-67fea5b2571d",
   "metadata": {
    "tags": []
   },
   "outputs": [],
   "source": [
    "import numpy as np\n",
    "import pandas as pd\n",
    "from statsmodels.tsa.api import VAR\n",
    "from statsmodels.tsa.stattools import grangercausalitytests\n",
    "from statsmodels.tsa.base.datetools import dates_from_str\n"
   ]
  },
  {
   "cell_type": "code",
   "execution_count": 16,
   "id": "9c097a4e-4306-4a76-ba55-67319e771e62",
   "metadata": {
    "tags": []
   },
   "outputs": [],
   "source": [
    "#Create a dateindex for the dataset\n",
    "\n",
    "dates = dates_from_str(['2023-01-01','2023-01-02','2023-01-03','2023-01-04','2023-01-05','2023-01-06','2023-01-07','2023-01-08','2023-01-09','2023-01-10',])\n",
    "num_days = len(dates)"
   ]
  },
  {
   "cell_type": "code",
   "execution_count": 21,
   "id": "86889a7f-b2f7-4417-b317-402553e31d01",
   "metadata": {
    "tags": []
   },
   "outputs": [
    {
     "name": "stderr",
     "output_type": "stream",
     "text": [
      "/home/cdsw/.local/lib/python3.9/site-packages/statsmodels/tsa/stattools.py:1488: FutureWarning: verbose is deprecated since functions should not print results\n",
      "  warnings.warn(\n",
      "/home/cdsw/.local/lib/python3.9/site-packages/statsmodels/tsa/stattools.py:1488: FutureWarning: verbose is deprecated since functions should not print results\n",
      "  warnings.warn(\n",
      "/home/cdsw/.local/lib/python3.9/site-packages/statsmodels/tsa/stattools.py:1488: FutureWarning: verbose is deprecated since functions should not print results\n",
      "  warnings.warn(\n",
      "/home/cdsw/.local/lib/python3.9/site-packages/statsmodels/tsa/stattools.py:1488: FutureWarning: verbose is deprecated since functions should not print results\n",
      "  warnings.warn(\n",
      "/home/cdsw/.local/lib/python3.9/site-packages/statsmodels/tsa/base/tsa_model.py:473: ValueWarning: No frequency information was provided, so inferred frequency D will be used.\n",
      "  self._init_dates(dates, freq)\n"
     ]
    },
    {
     "ename": "AttributeError",
     "evalue": "'VAR' object has no attribute 'fit_regularized'",
     "output_type": "error",
     "traceback": [
      "\u001b[0;31m---------------------------------------------------------------------------\u001b[0m",
      "\u001b[0;31mAttributeError\u001b[0m                            Traceback (most recent call last)",
      "Cell \u001b[0;32mIn[21], line 26\u001b[0m\n\u001b[1;32m     24\u001b[0m model \u001b[38;5;241m=\u001b[39m VAR(df)\n\u001b[1;32m     25\u001b[0m \u001b[38;5;66;03m#lag_order = max_lag #model.select_order(maxlags=2)['aic']\u001b[39;00m\n\u001b[0;32m---> 26\u001b[0m var_model \u001b[38;5;241m=\u001b[39m \u001b[43mmodel\u001b[49m\u001b[38;5;241;43m.\u001b[39;49m\u001b[43mfit_regularized\u001b[49m(alpha\u001b[38;5;241m=\u001b[39mridge_alpha, maxlags\u001b[38;5;241m=\u001b[39m\u001b[38;5;241m2\u001b[39m, method\u001b[38;5;241m=\u001b[39m\u001b[38;5;124m'\u001b[39m\u001b[38;5;124mols\u001b[39m\u001b[38;5;124m'\u001b[39m)\n\u001b[1;32m     29\u001b[0m \u001b[38;5;66;03m#Forecasting\u001b[39;00m\n\u001b[1;32m     30\u001b[0m forecast_steps \u001b[38;5;241m=\u001b[39m \u001b[38;5;241m3\u001b[39m\n",
      "\u001b[0;31mAttributeError\u001b[0m: 'VAR' object has no attribute 'fit_regularized'"
     ]
    }
   ],
   "source": [
    "#Create dummy data for the variables\n",
    "\n",
    "np.random.seed(0)\n",
    "data = np.random.rand(num_days, 5) * 100#Random values between 0 and 100\n",
    "data[:, 0] += np.linspace(0,10, num_days) #Adding a linear trend to Pfizer netprice\n",
    "data[:, 1] += np.linspace(0,-5, num_days) #Adding a decreasing trend to analog1 net price\n",
    "data[:, 4] += np.random.randint(0, 3, size=num_days) #Random discrete values for driver\n",
    "\n",
    "\n",
    "\n",
    "#Create a dataFRAME\n",
    "columns = ['N_Pfizer', 'N_Analog1', 'N_Analog2', 'N_Analog3', 'Driver_Var']\n",
    "df = pd.DataFrame(data, index=dates, columns = columns)\n",
    "\n",
    "\n",
    "#Perform Granger Causality tests\n",
    "max_lag = 2 #maximum lag order for granger causality tests\n",
    "test_results = {}\n",
    "for col in columns[:4]:\n",
    "    test_results[col] = grangercausalitytests(df[[col, 'N_Pfizer']], max_lag, verbose = False)\n",
    "\n",
    "ridge_alpha = 0.1\n",
    "#Estimate VAR model\n",
    "model = VAR(df)\n",
    "#lag_order = max_lag #model.select_order(maxlags=2)['aic']\n",
    "var_model = model.fit_regularized(alpha=ridge_alpha, maxlags=2, method='ols')\n",
    "\n",
    "\n",
    "#Forecasting\n",
    "forecast_steps = 3\n",
    "forecast = var_model.forecast(df.values[-lag_order:], forecast_steps)\n",
    "\n",
    "\n",
    "\n",
    "#Impulse Response Analysis\n",
    "irf = var_model.irf(10)\n",
    "irf.plot(orth=False)\n",
    "\n",
    "\n",
    "#Display forecasted values\n",
    "forecast_df = pd.DataFrame(forecast, columns=columns)\n",
    "print(\"\\n Forecasted values: \\n\", forecast_df)\n",
    "\n",
    "\n",
    "#Print lag order selected by AIC\n",
    "print(\"\\n Selected lag order:\", lag_order)\n"
   ]
  },
  {
   "cell_type": "code",
   "execution_count": null,
   "id": "5777618f-8bad-43bd-bdd6-7b77778dbfed",
   "metadata": {},
   "outputs": [],
   "source": []
  }
 ],
 "metadata": {
  "kernelspec": {
   "display_name": "Python 3 (ipykernel)",
   "language": "python",
   "name": "python3"
  },
  "language_info": {
   "codemirror_mode": {
    "name": "ipython",
    "version": 3
   },
   "file_extension": ".py",
   "mimetype": "text/x-python",
   "name": "python",
   "nbconvert_exporter": "python",
   "pygments_lexer": "ipython3",
   "version": "3.9.16"
  }
 },
 "nbformat": 4,
 "nbformat_minor": 5
}
