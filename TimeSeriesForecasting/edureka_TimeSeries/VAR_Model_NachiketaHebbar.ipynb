{
 "cells": [
  {
   "cell_type": "code",
   "execution_count": 1,
   "metadata": {
    "colab": {
     "base_uri": "https://localhost:8080/"
    },
    "id": "9m5zVh0567Mg",
    "outputId": "dcb2d7fd-7fcf-4773-b9ee-2a5a82d40796",
    "tags": []
   },
   "outputs": [],
   "source": [
    "from statsmodels.graphics.tsaplots import plot_acf, plot_pacf\n",
    "from statsmodels.tsa.statespace.varmax import VARMAX\n",
    "from statsmodels.tsa.api import VAR\n",
    "from statsmodels.tsa.stattools import grangercausalitytests, adfuller\n",
    "from tqdm import tqdm_notebook\n",
    "from itertools import product\n",
    "\n",
    "import matplotlib.pyplot as plt\n",
    "import statsmodels.api as sm\n",
    "import pandas as pd\n",
    "import numpy as np\n",
    "\n",
    "import warnings\n",
    "warnings.filterwarnings('ignore')\n"
   ]
  },
  {
   "cell_type": "markdown",
   "metadata": {
    "id": "NKBeyfVWZT7L",
    "tags": []
   },
   "source": [
    "# VECTOR AUTO REGRESSION EQUATION:"
   ]
  },
  {
   "cell_type": "markdown",
   "metadata": {
    "id": "1EZo8OQOZJmA"
   },
   "source": [
    "\n",
    "![image.png](data:image/png;base64,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)"
   ]
  },
  {
   "cell_type": "code",
   "execution_count": 2,
   "metadata": {
    "colab": {
     "base_uri": "https://localhost:8080/",
     "height": 251
    },
    "id": "4jQe30yK680d",
    "outputId": "1c80454e-dd3c-465f-923c-d8833e6b5388",
    "tags": []
   },
   "outputs": [
    {
     "name": "stdout",
     "output_type": "stream",
     "text": [
      "(123, 8)\n"
     ]
    },
    {
     "data": {
      "text/html": [
       "<div>\n",
       "<style scoped>\n",
       "    .dataframe tbody tr th:only-of-type {\n",
       "        vertical-align: middle;\n",
       "    }\n",
       "\n",
       "    .dataframe tbody tr th {\n",
       "        vertical-align: top;\n",
       "    }\n",
       "\n",
       "    .dataframe thead th {\n",
       "        text-align: right;\n",
       "    }\n",
       "</style>\n",
       "<table border=\"1\" class=\"dataframe\">\n",
       "  <thead>\n",
       "    <tr style=\"text-align: right;\">\n",
       "      <th></th>\n",
       "      <th>rgnp</th>\n",
       "      <th>pgnp</th>\n",
       "      <th>ulc</th>\n",
       "      <th>gdfco</th>\n",
       "      <th>gdf</th>\n",
       "      <th>gdfim</th>\n",
       "      <th>gdfcf</th>\n",
       "      <th>gdfce</th>\n",
       "    </tr>\n",
       "    <tr>\n",
       "      <th>date</th>\n",
       "      <th></th>\n",
       "      <th></th>\n",
       "      <th></th>\n",
       "      <th></th>\n",
       "      <th></th>\n",
       "      <th></th>\n",
       "      <th></th>\n",
       "      <th></th>\n",
       "    </tr>\n",
       "  </thead>\n",
       "  <tbody>\n",
       "    <tr>\n",
       "      <th>1959-01-01</th>\n",
       "      <td>1606.4</td>\n",
       "      <td>1608.3</td>\n",
       "      <td>47.5</td>\n",
       "      <td>36.9</td>\n",
       "      <td>37.4</td>\n",
       "      <td>26.9</td>\n",
       "      <td>32.3</td>\n",
       "      <td>23.1</td>\n",
       "    </tr>\n",
       "    <tr>\n",
       "      <th>1959-04-01</th>\n",
       "      <td>1637.0</td>\n",
       "      <td>1622.2</td>\n",
       "      <td>47.5</td>\n",
       "      <td>37.4</td>\n",
       "      <td>37.5</td>\n",
       "      <td>27.0</td>\n",
       "      <td>32.2</td>\n",
       "      <td>23.4</td>\n",
       "    </tr>\n",
       "    <tr>\n",
       "      <th>1959-07-01</th>\n",
       "      <td>1629.5</td>\n",
       "      <td>1636.2</td>\n",
       "      <td>48.7</td>\n",
       "      <td>37.6</td>\n",
       "      <td>37.6</td>\n",
       "      <td>27.1</td>\n",
       "      <td>32.4</td>\n",
       "      <td>23.4</td>\n",
       "    </tr>\n",
       "    <tr>\n",
       "      <th>1959-10-01</th>\n",
       "      <td>1643.4</td>\n",
       "      <td>1650.3</td>\n",
       "      <td>48.8</td>\n",
       "      <td>37.7</td>\n",
       "      <td>37.8</td>\n",
       "      <td>27.1</td>\n",
       "      <td>32.5</td>\n",
       "      <td>23.8</td>\n",
       "    </tr>\n",
       "    <tr>\n",
       "      <th>1960-01-01</th>\n",
       "      <td>1671.6</td>\n",
       "      <td>1664.6</td>\n",
       "      <td>49.1</td>\n",
       "      <td>37.8</td>\n",
       "      <td>37.8</td>\n",
       "      <td>27.2</td>\n",
       "      <td>32.4</td>\n",
       "      <td>23.8</td>\n",
       "    </tr>\n",
       "  </tbody>\n",
       "</table>\n",
       "</div>"
      ],
      "text/plain": [
       "              rgnp    pgnp   ulc  gdfco   gdf  gdfim  gdfcf  gdfce\n",
       "date                                                              \n",
       "1959-01-01  1606.4  1608.3  47.5   36.9  37.4   26.9   32.3   23.1\n",
       "1959-04-01  1637.0  1622.2  47.5   37.4  37.5   27.0   32.2   23.4\n",
       "1959-07-01  1629.5  1636.2  48.7   37.6  37.6   27.1   32.4   23.4\n",
       "1959-10-01  1643.4  1650.3  48.8   37.7  37.8   27.1   32.5   23.8\n",
       "1960-01-01  1671.6  1664.6  49.1   37.8  37.8   27.2   32.4   23.8"
      ]
     },
     "execution_count": 2,
     "metadata": {},
     "output_type": "execute_result"
    }
   ],
   "source": [
    "filepath = 'https://raw.githubusercontent.com/selva86/datasets/master/Raotbl6.csv'\n",
    "macro_data = pd.read_csv(filepath, parse_dates=['date'], index_col='date')\n",
    "print(macro_data.shape)  # (123, 8)\n",
    "macro_data.head()"
   ]
  },
  {
   "cell_type": "code",
   "execution_count": 3,
   "metadata": {
    "colab": {
     "base_uri": "https://localhost:8080/",
     "height": 724
    },
    "id": "x_N6tXI97L4u",
    "outputId": "0bd4f76c-540a-4582-b42c-af375880236b",
    "tags": []
   },
   "outputs": [
    {
     "data": {
      "image/png": "[encoded data removed]",
      "text/plain": [
       "<Figure size 1200x720 with 8 Axes>"
      ]
     },
     "metadata": {
      "needs_background": "light"
     },
     "output_type": "display_data"
    }
   ],
   "source": [
    "fig, axes = plt.subplots(nrows=4, ncols=2, dpi=120, figsize=(10,6))\n",
    "for i, ax in enumerate(axes.flatten()):\n",
    "    data = macro_data[macro_data.columns[i]]\n",
    "    ax.plot(data, color='red', linewidth=1)\n",
    "    # Decorations\n",
    "    ax.set_title(macro_data.columns[i])\n",
    "    ax.xaxis.set_ticks_position('none')\n",
    "    ax.yaxis.set_ticks_position('none')\n",
    "    ax.spines[\"top\"].set_alpha(0)\n",
    "    ax.tick_params(labelsize=6)\n",
    "\n",
    "plt.tight_layout();"
   ]
  },
  {
   "cell_type": "code",
   "execution_count": 4,
   "metadata": {
    "colab": {
     "base_uri": "https://localhost:8080/"
    },
    "id": "pTS8LJ26BL4A",
    "outputId": "f114a1fe-98a1-4345-e3e5-a27a23b7810b",
    "tags": []
   },
   "outputs": [
    {
     "name": "stdout",
     "output_type": "stream",
     "text": [
      "realgdp\n",
      "ADF Statistic: -5.427594381007333\n",
      "p-value: 2.9633019848469254e-06\n",
      "\n",
      "---------------------\n",
      "\n",
      "realcons\n",
      "ADF Statistic: -3.5760804731509097\n",
      "p-value: 0.0062351318302382\n"
     ]
    }
   ],
   "source": [
    "ad_fuller_result_1 = adfuller(macro_data['rgnp'].diff()[1:])\n",
    "\n",
    "print('realgdp')\n",
    "print(f'ADF Statistic: {ad_fuller_result_1[0]}')\n",
    "print(f'p-value: {ad_fuller_result_1[1]}')\n",
    "\n",
    "print('\\n---------------------\\n')\n",
    "\n",
    "ad_fuller_result_2 = adfuller(macro_data['ulc'].diff()[1:])\n",
    "\n",
    "print('realcons')\n",
    "print(f'ADF Statistic: {ad_fuller_result_2[0]}')\n",
    "print(f'p-value: {ad_fuller_result_2[1]}')"
   ]
  },
  {
   "cell_type": "code",
   "execution_count": 5,
   "metadata": {
    "colab": {
     "base_uri": "https://localhost:8080/"
    },
    "id": "fHQL7ioAFdij",
    "outputId": "8a71a25a-1ed0-4d9a-9009-1639fc1a3a9c",
    "tags": []
   },
   "outputs": [
    {
     "name": "stdout",
     "output_type": "stream",
     "text": [
      "rgnp causes ulc?\n",
      "\n",
      "------------------\n",
      "\n",
      "Granger Causality\n",
      "number of lags (no zero) 1\n",
      "ssr based F test:         F=22.3802 , p=0.0000  , df_denom=119, df_num=1\n",
      "ssr based chi2 test:   chi2=22.9444 , p=0.0000  , df=1\n",
      "likelihood ratio test: chi2=21.0242 , p=0.0000  , df=1\n",
      "parameter F test:         F=22.3802 , p=0.0000  , df_denom=119, df_num=1\n",
      "\n",
      "Granger Causality\n",
      "number of lags (no zero) 2\n",
      "ssr based F test:         F=7.7188  , p=0.0007  , df_denom=116, df_num=2\n",
      "ssr based chi2 test:   chi2=16.1029 , p=0.0003  , df=2\n",
      "likelihood ratio test: chi2=15.1179 , p=0.0005  , df=2\n",
      "parameter F test:         F=7.7188  , p=0.0007  , df_denom=116, df_num=2\n",
      "\n",
      "Granger Causality\n",
      "number of lags (no zero) 3\n",
      "ssr based F test:         F=7.5231  , p=0.0001  , df_denom=113, df_num=3\n",
      "ssr based chi2 test:   chi2=23.9675 , p=0.0000  , df=3\n",
      "likelihood ratio test: chi2=21.8515 , p=0.0001  , df=3\n",
      "parameter F test:         F=7.5231  , p=0.0001  , df_denom=113, df_num=3\n",
      "\n",
      "Granger Causality\n",
      "number of lags (no zero) 4\n",
      "ssr based F test:         F=8.3018  , p=0.0000  , df_denom=110, df_num=4\n",
      "ssr based chi2 test:   chi2=35.9239 , p=0.0000  , df=4\n",
      "likelihood ratio test: chi2=31.3935 , p=0.0000  , df=4\n",
      "parameter F test:         F=8.3018  , p=0.0000  , df_denom=110, df_num=4\n",
      "\n",
      "ulc causes rgnp?\n",
      "\n",
      "------------------\n",
      "\n",
      "Granger Causality\n",
      "number of lags (no zero) 1\n",
      "ssr based F test:         F=0.3729  , p=0.5426  , df_denom=119, df_num=1\n",
      "ssr based chi2 test:   chi2=0.3823  , p=0.5364  , df=1\n",
      "likelihood ratio test: chi2=0.3817  , p=0.5367  , df=1\n",
      "parameter F test:         F=0.3729  , p=0.5426  , df_denom=119, df_num=1\n",
      "\n",
      "Granger Causality\n",
      "number of lags (no zero) 2\n",
      "ssr based F test:         F=4.6201  , p=0.0117  , df_denom=116, df_num=2\n",
      "ssr based chi2 test:   chi2=9.6386  , p=0.0081  , df=2\n",
      "likelihood ratio test: chi2=9.2739  , p=0.0097  , df=2\n",
      "parameter F test:         F=4.6201  , p=0.0117  , df_denom=116, df_num=2\n",
      "\n",
      "Granger Causality\n",
      "number of lags (no zero) 3\n",
      "ssr based F test:         F=4.0976  , p=0.0084  , df_denom=113, df_num=3\n",
      "ssr based chi2 test:   chi2=13.0544 , p=0.0045  , df=3\n",
      "likelihood ratio test: chi2=12.3920 , p=0.0062  , df=3\n",
      "parameter F test:         F=4.0976  , p=0.0084  , df_denom=113, df_num=3\n",
      "\n",
      "Granger Causality\n",
      "number of lags (no zero) 4\n",
      "ssr based F test:         F=5.4664  , p=0.0005  , df_denom=110, df_num=4\n",
      "ssr based chi2 test:   chi2=23.6547 , p=0.0001  , df=4\n",
      "likelihood ratio test: chi2=21.5751 , p=0.0002  , df=4\n",
      "parameter F test:         F=5.4664  , p=0.0005  , df_denom=110, df_num=4\n"
     ]
    }
   ],
   "source": [
    "print('rgnp causes ulc?\\n')\n",
    "print('------------------')\n",
    "granger_1 = grangercausalitytests(macro_data[['ulc', 'rgnp']], 4)\n",
    "\n",
    "print('\\nulc causes rgnp?\\n')\n",
    "print('------------------')\n",
    "granger_2 = grangercausalitytests(macro_data[['rgnp', 'ulc']], 4)"
   ]
  },
  {
   "cell_type": "code",
   "execution_count": 6,
   "metadata": {
    "colab": {
     "base_uri": "https://localhost:8080/"
    },
    "id": "qvsbm0dHPU97",
    "outputId": "d3c59147-e375-4923-c5f1-b66c6c7ab108",
    "tags": []
   },
   "outputs": [
    {
     "name": "stdout",
     "output_type": "stream",
     "text": [
      "(123, 2)\n"
     ]
    }
   ],
   "source": [
    "macro_data = macro_data[['ulc','rgnp']]\n",
    "print(macro_data.shape)"
   ]
  },
  {
   "cell_type": "code",
   "execution_count": 7,
   "metadata": {
    "id": "Rzk_7YtI5iwv",
    "tags": []
   },
   "outputs": [],
   "source": [
    "train_df=macro_data[:-12]\n",
    "test_df=macro_data[-12:]"
   ]
  },
  {
   "cell_type": "code",
   "execution_count": 8,
   "metadata": {
    "colab": {
     "base_uri": "https://localhost:8080/"
    },
    "id": "LvIZYPlO5tdj",
    "outputId": "cdaa0c16-1d8c-4c9e-e661-f8a7719d37a8",
    "tags": []
   },
   "outputs": [
    {
     "name": "stdout",
     "output_type": "stream",
     "text": [
      "(12, 2)\n"
     ]
    }
   ],
   "source": [
    "print(test_df.shape)"
   ]
  },
  {
   "cell_type": "code",
   "execution_count": 9,
   "metadata": {
    "id": "c1MxkA1_LpGn",
    "tags": []
   },
   "outputs": [],
   "source": [
    "model = VAR(train_df.diff()[1:])"
   ]
  },
  {
   "cell_type": "code",
   "execution_count": 10,
   "metadata": {
    "colab": {
     "base_uri": "https://localhost:8080/"
    },
    "id": "Yn3hGgiOMZ-n",
    "outputId": "2b50958b-feea-4bdb-f1b1-5cd6e3a45df0",
    "tags": []
   },
   "outputs": [
    {
     "name": "stdout",
     "output_type": "stream",
     "text": [
      " VAR Order Selection (* highlights the minimums)  \n",
      "==================================================\n",
      "       AIC         BIC         FPE         HQIC   \n",
      "--------------------------------------------------\n",
      "0        6.778       6.834       878.3       6.800\n",
      "1        5.988      6.154*       398.5       6.055\n",
      "2        5.942       6.220       380.9       6.054\n",
      "3        5.933       6.322       377.4       6.090\n",
      "4       5.793*       6.293      328.5*      5.995*\n",
      "5        5.873       6.484       356.3       6.120\n",
      "6        5.828       6.550       341.1       6.119\n",
      "7        5.894       6.727       365.0       6.230\n",
      "8        5.890       6.835       364.8       6.271\n",
      "9        5.942       6.998       385.8       6.368\n",
      "10       5.930       7.097       382.9       6.401\n",
      "11       5.913       7.191       378.5       6.428\n",
      "12       5.885       7.274       370.7       6.445\n",
      "13       5.925       7.424       388.6       6.529\n",
      "14       5.882       7.493       376.0       6.532\n",
      "15       5.950       7.672       406.9       6.644\n",
      "16       5.933       7.766       405.3       6.672\n",
      "17       5.947       7.891       417.1       6.731\n",
      "18       5.935       7.990       419.2       6.764\n",
      "19       5.964       8.130       439.9       6.838\n",
      "20       5.955       8.233       445.6       6.873\n",
      "--------------------------------------------------\n"
     ]
    }
   ],
   "source": [
    "sorted_order=model.select_order(maxlags=20)\n",
    "print(sorted_order.summary())\n"
   ]
  },
  {
   "cell_type": "code",
   "execution_count": 11,
   "metadata": {
    "colab": {
     "base_uri": "https://localhost:8080/"
    },
    "id": "A9rC2-VMLpO8",
    "outputId": "1b9a2733-cf91-4c1c-b140-d4b8f11b85fc",
    "tags": []
   },
   "outputs": [
    {
     "name": "stdout",
     "output_type": "stream",
     "text": [
      "                           Statespace Model Results                           \n",
      "==============================================================================\n",
      "Dep. Variable:        ['ulc', 'rgnp']   No. Observations:                  111\n",
      "Model:                         VAR(4)   Log Likelihood              -11826.774\n",
      "                          + intercept   AIC                          23695.547\n",
      "Date:                Fri, 18 Aug 2023   BIC                          23752.447\n",
      "Time:                        11:45:24   HQIC                         23718.630\n",
      "Sample:                    01-01-1959                                         \n",
      "                         - 07-01-1986                                         \n",
      "Covariance Type:                  opg                                         \n",
      "===================================================================================\n",
      "Ljung-Box (L1) (Q):          35.74, 106.08   Jarque-Bera (JB):         19.07, 13.67\n",
      "Prob(Q):                        0.00, 0.00   Prob(JB):                   0.00, 0.00\n",
      "Heteroskedasticity (H):         1.68, 0.28   Skew:                      0.63, -0.86\n",
      "Prob(H) (two-sided):            0.12, 0.00   Kurtosis:                   4.59, 2.86\n",
      "                           Results for equation ulc                           \n",
      "==============================================================================\n",
      "                 coef    std err          z      P>|z|      [0.025      0.975]\n",
      "------------------------------------------------------------------------------\n",
      "intercept     89.2188     23.802      3.748      0.000      42.567     135.870\n",
      "L1.ulc        -0.8310      1.032     -0.806      0.420      -2.853       1.191\n",
      "L1.rgnp       -0.6111      0.242     -2.530      0.011      -1.084      -0.138\n",
      "L2.ulc        -0.3822      0.773     -0.494      0.621      -1.897       1.133\n",
      "L2.rgnp        0.2065      0.390      0.530      0.596      -0.557       0.970\n",
      "L3.ulc         1.4022      1.018      1.377      0.168      -0.594       3.398\n",
      "L3.rgnp        0.5002      0.259      1.930      0.054      -0.008       1.008\n",
      "L4.ulc         1.4308      1.660      0.862      0.389      -1.823       4.684\n",
      "L4.rgnp       -0.1492      0.068     -2.188      0.029      -0.283      -0.016\n",
      "                          Results for equation rgnp                           \n",
      "==============================================================================\n",
      "                 coef    std err          z      P>|z|      [0.025      0.975]\n",
      "------------------------------------------------------------------------------\n",
      "intercept   2614.7927     57.921     45.144      0.000    2501.269    2728.317\n",
      "L1.ulc         2.1761      0.982      2.217      0.027       0.252       4.100\n",
      "L1.rgnp       -1.4023      0.299     -4.686      0.000      -1.989      -0.816\n",
      "L2.ulc         4.9799      0.938      5.310      0.000       3.142       6.818\n",
      "L2.rgnp        0.8411      0.190      4.437      0.000       0.470       1.213\n",
      "L3.ulc         7.3595      0.923      7.976      0.000       5.551       9.168\n",
      "L3.rgnp        0.4756      0.236      2.017      0.044       0.013       0.938\n",
      "L4.ulc         3.6680      0.816      4.494      0.000       2.068       5.268\n",
      "L4.rgnp       -0.4841      0.065     -7.433      0.000      -0.612      -0.356\n",
      "                               Error covariance matrix                               \n",
      "=====================================================================================\n",
      "                        coef    std err          z      P>|z|      [0.025      0.975]\n",
      "-------------------------------------------------------------------------------------\n",
      "sqrt.var.ulc         40.4613      7.259      5.574      0.000      26.233      54.689\n",
      "sqrt.cov.ulc.rgnp   -15.3954     17.827     -0.864      0.388     -50.335      19.545\n",
      "sqrt.var.rgnp        26.6839      0.347     76.805      0.000      26.003      27.365\n",
      "=====================================================================================\n",
      "\n",
      "Warnings:\n",
      "[1] Covariance matrix calculated using the outer product of gradients (complex-step).\n",
      "[2] Covariance matrix is singular or near-singular, with condition number 1.26e+16. Standard errors may be unstable.\n"
     ]
    }
   ],
   "source": [
    "var_model = VARMAX(train_df, order=(4,0),enforce_stationarity= True)\n",
    "fitted_model = var_model.fit(disp=False)\n",
    "print(fitted_model.summary())"
   ]
  },
  {
   "cell_type": "code",
   "execution_count": 12,
   "metadata": {
    "id": "ufjjjvpSUfWQ",
    "tags": []
   },
   "outputs": [],
   "source": [
    "n_forecast = 12\n",
    "predict = fitted_model.get_prediction(start=len(train_df),end=len(train_df) + n_forecast-1)#start=\"1989-07-01\",end='1999-01-01')\n",
    "\n",
    "predictions=predict.predicted_mean"
   ]
  },
  {
   "cell_type": "code",
   "execution_count": 13,
   "metadata": {
    "colab": {
     "base_uri": "https://localhost:8080/",
     "height": 418
    },
    "id": "6xg8dYkp6Jn8",
    "outputId": "c2925bf3-9677-436a-d36e-1b0a5b87db91",
    "tags": []
   },
   "outputs": [
    {
     "data": {
      "text/html": [
       "<div>\n",
       "<style scoped>\n",
       "    .dataframe tbody tr th:only-of-type {\n",
       "        vertical-align: middle;\n",
       "    }\n",
       "\n",
       "    .dataframe tbody tr th {\n",
       "        vertical-align: top;\n",
       "    }\n",
       "\n",
       "    .dataframe thead th {\n",
       "        text-align: right;\n",
       "    }\n",
       "</style>\n",
       "<table border=\"1\" class=\"dataframe\">\n",
       "  <thead>\n",
       "    <tr style=\"text-align: right;\">\n",
       "      <th></th>\n",
       "      <th>ulc_predicted</th>\n",
       "      <th>rgnp_predicted</th>\n",
       "    </tr>\n",
       "  </thead>\n",
       "  <tbody>\n",
       "    <tr>\n",
       "      <th>1986-10-01</th>\n",
       "      <td>166.480943</td>\n",
       "      <td>3570.757108</td>\n",
       "    </tr>\n",
       "    <tr>\n",
       "      <th>1987-01-01</th>\n",
       "      <td>242.465636</td>\n",
       "      <td>3755.743383</td>\n",
       "    </tr>\n",
       "    <tr>\n",
       "      <th>1987-04-01</th>\n",
       "      <td>51.990557</td>\n",
       "      <td>3558.318213</td>\n",
       "    </tr>\n",
       "    <tr>\n",
       "      <th>1987-07-01</th>\n",
       "      <td>265.311213</td>\n",
       "      <td>3858.709908</td>\n",
       "    </tr>\n",
       "    <tr>\n",
       "      <th>1987-10-01</th>\n",
       "      <td>149.960949</td>\n",
       "      <td>3485.503506</td>\n",
       "    </tr>\n",
       "    <tr>\n",
       "      <th>1988-01-01</th>\n",
       "      <td>169.670855</td>\n",
       "      <td>3766.295655</td>\n",
       "    </tr>\n",
       "    <tr>\n",
       "      <th>1988-04-01</th>\n",
       "      <td>155.001831</td>\n",
       "      <td>3636.790164</td>\n",
       "    </tr>\n",
       "    <tr>\n",
       "      <th>1988-07-01</th>\n",
       "      <td>208.782652</td>\n",
       "      <td>3731.436958</td>\n",
       "    </tr>\n",
       "    <tr>\n",
       "      <th>1988-10-01</th>\n",
       "      <td>143.831418</td>\n",
       "      <td>3569.923592</td>\n",
       "    </tr>\n",
       "    <tr>\n",
       "      <th>1989-01-01</th>\n",
       "      <td>196.458191</td>\n",
       "      <td>3769.327331</td>\n",
       "    </tr>\n",
       "    <tr>\n",
       "      <th>1989-04-01</th>\n",
       "      <td>143.428306</td>\n",
       "      <td>3594.617995</td>\n",
       "    </tr>\n",
       "    <tr>\n",
       "      <th>1989-07-01</th>\n",
       "      <td>206.293440</td>\n",
       "      <td>3750.644232</td>\n",
       "    </tr>\n",
       "  </tbody>\n",
       "</table>\n",
       "</div>"
      ],
      "text/plain": [
       "            ulc_predicted  rgnp_predicted\n",
       "1986-10-01     166.480943     3570.757108\n",
       "1987-01-01     242.465636     3755.743383\n",
       "1987-04-01      51.990557     3558.318213\n",
       "1987-07-01     265.311213     3858.709908\n",
       "1987-10-01     149.960949     3485.503506\n",
       "1988-01-01     169.670855     3766.295655\n",
       "1988-04-01     155.001831     3636.790164\n",
       "1988-07-01     208.782652     3731.436958\n",
       "1988-10-01     143.831418     3569.923592\n",
       "1989-01-01     196.458191     3769.327331\n",
       "1989-04-01     143.428306     3594.617995\n",
       "1989-07-01     206.293440     3750.644232"
      ]
     },
     "execution_count": 13,
     "metadata": {},
     "output_type": "execute_result"
    }
   ],
   "source": [
    "predictions.columns=['ulc_predicted','rgnp_predicted']\n",
    "predictions"
   ]
  },
  {
   "cell_type": "code",
   "execution_count": 14,
   "metadata": {
    "id": "xkGmc58hRMRm",
    "tags": []
   },
   "outputs": [],
   "source": [
    "test_vs_pred=pd.concat([test_df,predictions],axis=1)"
   ]
  },
  {
   "cell_type": "code",
   "execution_count": 15,
   "metadata": {
    "colab": {
     "base_uri": "https://localhost:8080/",
     "height": 349
    },
    "id": "Q5eVZ_fUV72q",
    "outputId": "6dfd08ec-ab1c-4b24-b6ef-a5ea857e196c",
    "tags": []
   },
   "outputs": [
    {
     "data": {
      "text/plain": [
       "<Axes: >"
      ]
     },
     "execution_count": 15,
     "metadata": {},
     "output_type": "execute_result"
    },
    {
     "data": {
      "image/png": "[encoded data removed]",
      "text/plain": [
       "<Figure size 864x360 with 1 Axes>"
      ]
     },
     "metadata": {
      "needs_background": "light"
     },
     "output_type": "display_data"
    }
   ],
   "source": [
    "test_vs_pred.plot(figsize=(12,5))"
   ]
  },
  {
   "cell_type": "code",
   "execution_count": 16,
   "metadata": {
    "colab": {
     "base_uri": "https://localhost:8080/"
    },
    "id": "FvmvzhekwEwu",
    "outputId": "5f01ab21-6d52-4a02-b421-d53b5c13633a",
    "tags": []
   },
   "outputs": [
    {
     "name": "stdout",
     "output_type": "stream",
     "text": [
      "Mean value of ULC is : 178.56666666666666. Root Mean Squared Error is :53.02167546299776\n",
      "Mean value of RGNP is : 3970.6916666666666. Root Mean Squared Error is :341.95164848712204\n"
     ]
    }
   ],
   "source": [
    "from sklearn.metrics import mean_squared_error\n",
    "import math \n",
    "from statistics import mean\n",
    "\n",
    "rmse_ulc=math.sqrt(mean_squared_error(predictions['ulc_predicted'],test_df['ulc']))\n",
    "print('Mean value of ULC is : {}. Root Mean Squared Error is :{}'.format(mean(test_df['ulc']),rmse_ulc))\n",
    "\n",
    "rmse_rgnp=math.sqrt(mean_squared_error(predictions['rgnp_predicted'],test_df['rgnp']))\n",
    "print('Mean value of RGNP is : {}. Root Mean Squared Error is :{}'.format(mean(test_df['rgnp']),rmse_rgnp))"
   ]
  },
  {
   "cell_type": "code",
   "execution_count": null,
   "metadata": {},
   "outputs": [],
   "source": []
  }
 ],
 "metadata": {
  "colab": {
   "collapsed_sections": [],
   "name": "VAR_Model.ipynb",
   "provenance": []
  },
  "kernelspec": {
   "display_name": "Python 3 (ipykernel)",
   "language": "python",
   "name": "python3"
  },
  "language_info": {
   "codemirror_mode": {
    "name": "ipython",
    "version": 3
   },
   "file_extension": ".py",
   "mimetype": "text/x-python",
   "name": "python",
   "nbconvert_exporter": "python",
   "pygments_lexer": "ipython3",
   "version": "3.9.16"
  }
 },
 "nbformat": 4,
 "nbformat_minor": 4
}
