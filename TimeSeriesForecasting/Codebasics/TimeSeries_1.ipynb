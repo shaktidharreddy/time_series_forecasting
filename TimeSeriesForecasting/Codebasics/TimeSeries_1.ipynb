{
 "cells": [
  {
   "cell_type": "code",
   "execution_count": 31,
   "id": "8764fda8-90a8-4859-9f4f-3a6be228220e",
   "metadata": {},
   "outputs": [],
   "source": [
    "#DatetimeIndex and Resample"
   ]
  },
  {
   "cell_type": "code",
   "execution_count": 32,
   "id": "c03c1dc7-62d9-4d1f-bd24-7bea1d5e8917",
   "metadata": {
    "tags": []
   },
   "outputs": [
    {
     "data": {
      "text/html": [
       "<div>\n",
       "<style scoped>\n",
       "    .dataframe tbody tr th:only-of-type {\n",
       "        vertical-align: middle;\n",
       "    }\n",
       "\n",
       "    .dataframe tbody tr th {\n",
       "        vertical-align: top;\n",
       "    }\n",
       "\n",
       "    .dataframe thead th {\n",
       "        text-align: right;\n",
       "    }\n",
       "</style>\n",
       "<table border=\"1\" class=\"dataframe\">\n",
       "  <thead>\n",
       "    <tr style=\"text-align: right;\">\n",
       "      <th></th>\n",
       "      <th>Close/Last</th>\n",
       "      <th>Volume</th>\n",
       "      <th>Open</th>\n",
       "      <th>High</th>\n",
       "      <th>Low</th>\n",
       "    </tr>\n",
       "    <tr>\n",
       "      <th>Date</th>\n",
       "      <th></th>\n",
       "      <th></th>\n",
       "      <th></th>\n",
       "      <th></th>\n",
       "      <th></th>\n",
       "    </tr>\n",
       "  </thead>\n",
       "  <tbody>\n",
       "    <tr>\n",
       "      <th>2023-08-11</th>\n",
       "      <td>$177.79</td>\n",
       "      <td>52036670</td>\n",
       "      <td>$177.32</td>\n",
       "      <td>$178.62</td>\n",
       "      <td>$176.55</td>\n",
       "    </tr>\n",
       "    <tr>\n",
       "      <th>2023-08-10</th>\n",
       "      <td>$177.97</td>\n",
       "      <td>54686850</td>\n",
       "      <td>$179.48</td>\n",
       "      <td>$180.75</td>\n",
       "      <td>$177.60</td>\n",
       "    </tr>\n",
       "    <tr>\n",
       "      <th>2023-08-09</th>\n",
       "      <td>$178.19</td>\n",
       "      <td>60378490</td>\n",
       "      <td>$180.87</td>\n",
       "      <td>$180.93</td>\n",
       "      <td>$177.01</td>\n",
       "    </tr>\n",
       "    <tr>\n",
       "      <th>2023-08-08</th>\n",
       "      <td>$179.80</td>\n",
       "      <td>67823000</td>\n",
       "      <td>$179.69</td>\n",
       "      <td>$180.27</td>\n",
       "      <td>$177.58</td>\n",
       "    </tr>\n",
       "    <tr>\n",
       "      <th>2023-08-07</th>\n",
       "      <td>$178.85</td>\n",
       "      <td>97576070</td>\n",
       "      <td>$182.13</td>\n",
       "      <td>$183.13</td>\n",
       "      <td>$177.35</td>\n",
       "    </tr>\n",
       "  </tbody>\n",
       "</table>\n",
       "</div>"
      ],
      "text/plain": [
       "           Close/Last    Volume     Open     High      Low\n",
       "Date                                                      \n",
       "2023-08-11    $177.79  52036670  $177.32  $178.62  $176.55\n",
       "2023-08-10    $177.97  54686850  $179.48  $180.75  $177.60\n",
       "2023-08-09    $178.19  60378490  $180.87  $180.93  $177.01\n",
       "2023-08-08    $179.80  67823000  $179.69  $180.27  $177.58\n",
       "2023-08-07    $178.85  97576070  $182.13  $183.13  $177.35"
      ]
     },
     "execution_count": 32,
     "metadata": {},
     "output_type": "execute_result"
    }
   ],
   "source": [
    "#download aapl stock price historical data from nasdaq\n",
    "\n",
    "import pandas as pd\n",
    "df = pd.read_csv(\"aapl.csv\", parse_dates=[\"Date\"], index_col=\"Date\")\n",
    "df.head()"
   ]
  },
  {
   "cell_type": "code",
   "execution_count": 33,
   "id": "67a8d201-4f86-4946-b4bf-148ed528bd2f",
   "metadata": {
    "tags": []
   },
   "outputs": [
    {
     "data": {
      "text/plain": [
       "(2517, 5)"
      ]
     },
     "execution_count": 33,
     "metadata": {},
     "output_type": "execute_result"
    }
   ],
   "source": [
    "df.shape"
   ]
  },
  {
   "cell_type": "code",
   "execution_count": 34,
   "id": "4ed94cf0-92a6-4622-b252-8e4daaaa5196",
   "metadata": {
    "tags": []
   },
   "outputs": [
    {
     "data": {
      "text/html": [
       "<div>\n",
       "<style scoped>\n",
       "    .dataframe tbody tr th:only-of-type {\n",
       "        vertical-align: middle;\n",
       "    }\n",
       "\n",
       "    .dataframe tbody tr th {\n",
       "        vertical-align: top;\n",
       "    }\n",
       "\n",
       "    .dataframe thead th {\n",
       "        text-align: right;\n",
       "    }\n",
       "</style>\n",
       "<table border=\"1\" class=\"dataframe\">\n",
       "  <thead>\n",
       "    <tr style=\"text-align: right;\">\n",
       "      <th></th>\n",
       "      <th>Close/Last</th>\n",
       "      <th>Volume</th>\n",
       "      <th>Open</th>\n",
       "      <th>High</th>\n",
       "      <th>Low</th>\n",
       "    </tr>\n",
       "    <tr>\n",
       "      <th>Date</th>\n",
       "      <th></th>\n",
       "      <th></th>\n",
       "      <th></th>\n",
       "      <th></th>\n",
       "      <th></th>\n",
       "    </tr>\n",
       "  </thead>\n",
       "  <tbody>\n",
       "    <tr>\n",
       "      <th>2020-01-31</th>\n",
       "      <td>$77.3775</td>\n",
       "      <td>199588400</td>\n",
       "      <td>$80.2325</td>\n",
       "      <td>$80.67</td>\n",
       "      <td>$77.0725</td>\n",
       "    </tr>\n",
       "    <tr>\n",
       "      <th>2020-01-30</th>\n",
       "      <td>$80.9675</td>\n",
       "      <td>126743240</td>\n",
       "      <td>$80.136</td>\n",
       "      <td>$81.0225</td>\n",
       "      <td>$79.6875</td>\n",
       "    </tr>\n",
       "    <tr>\n",
       "      <th>2020-01-29</th>\n",
       "      <td>$81.085</td>\n",
       "      <td>216599720</td>\n",
       "      <td>$81.1125</td>\n",
       "      <td>$81.9625</td>\n",
       "      <td>$80.345</td>\n",
       "    </tr>\n",
       "    <tr>\n",
       "      <th>2020-01-28</th>\n",
       "      <td>$79.4225</td>\n",
       "      <td>162233960</td>\n",
       "      <td>$78.15</td>\n",
       "      <td>$79.60</td>\n",
       "      <td>$78.0475</td>\n",
       "    </tr>\n",
       "    <tr>\n",
       "      <th>2020-01-27</th>\n",
       "      <td>$77.2375</td>\n",
       "      <td>161940040</td>\n",
       "      <td>$77.515</td>\n",
       "      <td>$77.9425</td>\n",
       "      <td>$76.22</td>\n",
       "    </tr>\n",
       "    <tr>\n",
       "      <th>2020-01-24</th>\n",
       "      <td>$79.5775</td>\n",
       "      <td>146537520</td>\n",
       "      <td>$80.0625</td>\n",
       "      <td>$80.8325</td>\n",
       "      <td>$79.3797</td>\n",
       "    </tr>\n",
       "    <tr>\n",
       "      <th>2020-01-23</th>\n",
       "      <td>$79.8075</td>\n",
       "      <td>104471960</td>\n",
       "      <td>$79.48</td>\n",
       "      <td>$79.89</td>\n",
       "      <td>$78.9125</td>\n",
       "    </tr>\n",
       "    <tr>\n",
       "      <th>2020-01-22</th>\n",
       "      <td>$79.425</td>\n",
       "      <td>101832480</td>\n",
       "      <td>$79.645</td>\n",
       "      <td>$79.9975</td>\n",
       "      <td>$79.3275</td>\n",
       "    </tr>\n",
       "    <tr>\n",
       "      <th>2020-01-21</th>\n",
       "      <td>$79.1425</td>\n",
       "      <td>110843240</td>\n",
       "      <td>$79.2975</td>\n",
       "      <td>$79.755</td>\n",
       "      <td>$79.00</td>\n",
       "    </tr>\n",
       "    <tr>\n",
       "      <th>2020-01-17</th>\n",
       "      <td>$79.6825</td>\n",
       "      <td>137816480</td>\n",
       "      <td>$79.0675</td>\n",
       "      <td>$79.685</td>\n",
       "      <td>$78.75</td>\n",
       "    </tr>\n",
       "    <tr>\n",
       "      <th>2020-01-16</th>\n",
       "      <td>$78.81</td>\n",
       "      <td>108829000</td>\n",
       "      <td>$78.3975</td>\n",
       "      <td>$78.925</td>\n",
       "      <td>$78.0225</td>\n",
       "    </tr>\n",
       "    <tr>\n",
       "      <th>2020-01-15</th>\n",
       "      <td>$77.835</td>\n",
       "      <td>121923520</td>\n",
       "      <td>$77.9625</td>\n",
       "      <td>$78.875</td>\n",
       "      <td>$77.3875</td>\n",
       "    </tr>\n",
       "    <tr>\n",
       "      <th>2020-01-14</th>\n",
       "      <td>$78.17</td>\n",
       "      <td>162613840</td>\n",
       "      <td>$79.175</td>\n",
       "      <td>$79.3925</td>\n",
       "      <td>$78.0425</td>\n",
       "    </tr>\n",
       "    <tr>\n",
       "      <th>2020-01-13</th>\n",
       "      <td>$79.24</td>\n",
       "      <td>122086880</td>\n",
       "      <td>$77.91</td>\n",
       "      <td>$79.2675</td>\n",
       "      <td>$77.7875</td>\n",
       "    </tr>\n",
       "    <tr>\n",
       "      <th>2020-01-10</th>\n",
       "      <td>$77.5825</td>\n",
       "      <td>140869080</td>\n",
       "      <td>$77.65</td>\n",
       "      <td>$78.1675</td>\n",
       "      <td>$77.0625</td>\n",
       "    </tr>\n",
       "    <tr>\n",
       "      <th>2020-01-09</th>\n",
       "      <td>$77.4075</td>\n",
       "      <td>170486160</td>\n",
       "      <td>$76.8088</td>\n",
       "      <td>$77.6075</td>\n",
       "      <td>$76.55</td>\n",
       "    </tr>\n",
       "    <tr>\n",
       "      <th>2020-01-08</th>\n",
       "      <td>$75.7975</td>\n",
       "      <td>132363800</td>\n",
       "      <td>$74.29</td>\n",
       "      <td>$76.11</td>\n",
       "      <td>$74.289</td>\n",
       "    </tr>\n",
       "    <tr>\n",
       "      <th>2020-01-07</th>\n",
       "      <td>$74.5975</td>\n",
       "      <td>111510640</td>\n",
       "      <td>$74.96</td>\n",
       "      <td>$75.225</td>\n",
       "      <td>$74.37</td>\n",
       "    </tr>\n",
       "    <tr>\n",
       "      <th>2020-01-06</th>\n",
       "      <td>$74.95</td>\n",
       "      <td>118578560</td>\n",
       "      <td>$73.4475</td>\n",
       "      <td>$74.99</td>\n",
       "      <td>$73.1875</td>\n",
       "    </tr>\n",
       "    <tr>\n",
       "      <th>2020-01-03</th>\n",
       "      <td>$74.3575</td>\n",
       "      <td>146535520</td>\n",
       "      <td>$74.2875</td>\n",
       "      <td>$75.145</td>\n",
       "      <td>$74.125</td>\n",
       "    </tr>\n",
       "    <tr>\n",
       "      <th>2020-01-02</th>\n",
       "      <td>$75.0875</td>\n",
       "      <td>135647440</td>\n",
       "      <td>$74.06</td>\n",
       "      <td>$75.15</td>\n",
       "      <td>$73.7975</td>\n",
       "    </tr>\n",
       "  </tbody>\n",
       "</table>\n",
       "</div>"
      ],
      "text/plain": [
       "           Close/Last     Volume      Open      High       Low\n",
       "Date                                                          \n",
       "2020-01-31   $77.3775  199588400  $80.2325    $80.67  $77.0725\n",
       "2020-01-30   $80.9675  126743240   $80.136  $81.0225  $79.6875\n",
       "2020-01-29    $81.085  216599720  $81.1125  $81.9625   $80.345\n",
       "2020-01-28   $79.4225  162233960    $78.15    $79.60  $78.0475\n",
       "2020-01-27   $77.2375  161940040   $77.515  $77.9425    $76.22\n",
       "2020-01-24   $79.5775  146537520  $80.0625  $80.8325  $79.3797\n",
       "2020-01-23   $79.8075  104471960    $79.48    $79.89  $78.9125\n",
       "2020-01-22    $79.425  101832480   $79.645  $79.9975  $79.3275\n",
       "2020-01-21   $79.1425  110843240  $79.2975   $79.755    $79.00\n",
       "2020-01-17   $79.6825  137816480  $79.0675   $79.685    $78.75\n",
       "2020-01-16     $78.81  108829000  $78.3975   $78.925  $78.0225\n",
       "2020-01-15    $77.835  121923520  $77.9625   $78.875  $77.3875\n",
       "2020-01-14     $78.17  162613840   $79.175  $79.3925  $78.0425\n",
       "2020-01-13     $79.24  122086880    $77.91  $79.2675  $77.7875\n",
       "2020-01-10   $77.5825  140869080    $77.65  $78.1675  $77.0625\n",
       "2020-01-09   $77.4075  170486160  $76.8088  $77.6075    $76.55\n",
       "2020-01-08   $75.7975  132363800    $74.29    $76.11   $74.289\n",
       "2020-01-07   $74.5975  111510640    $74.96   $75.225    $74.37\n",
       "2020-01-06     $74.95  118578560  $73.4475    $74.99  $73.1875\n",
       "2020-01-03   $74.3575  146535520  $74.2875   $75.145   $74.125\n",
       "2020-01-02   $75.0875  135647440    $74.06    $75.15  $73.7975"
      ]
     },
     "execution_count": 34,
     "metadata": {},
     "output_type": "execute_result"
    }
   ],
   "source": [
    "#filter only 2020-Jan month prices\n",
    "\n",
    "df.loc[\"2020-01\"]"
   ]
  },
  {
   "cell_type": "code",
   "execution_count": 35,
   "id": "612c4fee-4735-41cd-8b7a-fb755ac1316a",
   "metadata": {
    "tags": []
   },
   "outputs": [
    {
     "data": {
      "text/plain": [
       "Date\n",
       "2020-01-31    $77.3775\n",
       "2020-01-30    $80.9675\n",
       "2020-01-29     $81.085\n",
       "2020-01-28    $79.4225\n",
       "2020-01-27    $77.2375\n",
       "2020-01-24    $79.5775\n",
       "2020-01-23    $79.8075\n",
       "2020-01-22     $79.425\n",
       "2020-01-21    $79.1425\n",
       "2020-01-17    $79.6825\n",
       "2020-01-16      $78.81\n",
       "2020-01-15     $77.835\n",
       "2020-01-14      $78.17\n",
       "2020-01-13      $79.24\n",
       "2020-01-10    $77.5825\n",
       "2020-01-09    $77.4075\n",
       "2020-01-08    $75.7975\n",
       "2020-01-07    $74.5975\n",
       "2020-01-06      $74.95\n",
       "2020-01-03    $74.3575\n",
       "2020-01-02    $75.0875\n",
       "Name: Close/Last, dtype: object"
      ]
     },
     "execution_count": 35,
     "metadata": {},
     "output_type": "execute_result"
    }
   ],
   "source": [
    "#find average of 2020 Jan month stock prices\n",
    "\n",
    "df.loc[\"2020-01\"][\"Close/Last\"]"
   ]
  },
  {
   "cell_type": "code",
   "execution_count": 36,
   "id": "87409137-604c-4924-8a98-95d337d2e00e",
   "metadata": {
    "tags": []
   },
   "outputs": [
    {
     "data": {
      "text/html": [
       "<div>\n",
       "<style scoped>\n",
       "    .dataframe tbody tr th:only-of-type {\n",
       "        vertical-align: middle;\n",
       "    }\n",
       "\n",
       "    .dataframe tbody tr th {\n",
       "        vertical-align: top;\n",
       "    }\n",
       "\n",
       "    .dataframe thead th {\n",
       "        text-align: right;\n",
       "    }\n",
       "</style>\n",
       "<table border=\"1\" class=\"dataframe\">\n",
       "  <thead>\n",
       "    <tr style=\"text-align: right;\">\n",
       "      <th></th>\n",
       "      <th>Close/Last</th>\n",
       "      <th>Volume</th>\n",
       "      <th>Open</th>\n",
       "      <th>High</th>\n",
       "      <th>Low</th>\n",
       "    </tr>\n",
       "    <tr>\n",
       "      <th>Date</th>\n",
       "      <th></th>\n",
       "      <th></th>\n",
       "      <th></th>\n",
       "      <th></th>\n",
       "      <th></th>\n",
       "    </tr>\n",
       "  </thead>\n",
       "  <tbody>\n",
       "    <tr>\n",
       "      <th>2023-08-11</th>\n",
       "      <td>177.79</td>\n",
       "      <td>52036670</td>\n",
       "      <td>177.32</td>\n",
       "      <td>178.62</td>\n",
       "      <td>176.55</td>\n",
       "    </tr>\n",
       "    <tr>\n",
       "      <th>2023-08-10</th>\n",
       "      <td>177.97</td>\n",
       "      <td>54686850</td>\n",
       "      <td>179.48</td>\n",
       "      <td>180.75</td>\n",
       "      <td>177.60</td>\n",
       "    </tr>\n",
       "    <tr>\n",
       "      <th>2023-08-09</th>\n",
       "      <td>178.19</td>\n",
       "      <td>60378490</td>\n",
       "      <td>180.87</td>\n",
       "      <td>180.93</td>\n",
       "      <td>177.01</td>\n",
       "    </tr>\n",
       "    <tr>\n",
       "      <th>2023-08-08</th>\n",
       "      <td>179.80</td>\n",
       "      <td>67823000</td>\n",
       "      <td>179.69</td>\n",
       "      <td>180.27</td>\n",
       "      <td>177.58</td>\n",
       "    </tr>\n",
       "    <tr>\n",
       "      <th>2023-08-07</th>\n",
       "      <td>178.85</td>\n",
       "      <td>97576070</td>\n",
       "      <td>182.13</td>\n",
       "      <td>183.13</td>\n",
       "      <td>177.35</td>\n",
       "    </tr>\n",
       "  </tbody>\n",
       "</table>\n",
       "</div>"
      ],
      "text/plain": [
       "            Close/Last    Volume    Open    High     Low\n",
       "Date                                                    \n",
       "2023-08-11      177.79  52036670  177.32  178.62  176.55\n",
       "2023-08-10      177.97  54686850  179.48  180.75  177.60\n",
       "2023-08-09      178.19  60378490  180.87  180.93  177.01\n",
       "2023-08-08      179.80  67823000  179.69  180.27  177.58\n",
       "2023-08-07      178.85  97576070  182.13  183.13  177.35"
      ]
     },
     "execution_count": 36,
     "metadata": {},
     "output_type": "execute_result"
    }
   ],
   "source": [
    "# Iterate over each column\n",
    "for col in df.columns:\n",
    "    # Check if the column contains dollar signs\n",
    "    if df[col].dtype == 'object' and '$' in df[col].iloc[0]:\n",
    "        # Replace the dollar signs with an empty string\n",
    "        df[col] = df[col].str.replace('$', '')\n",
    "        df[col] = df[col].astype(float)\n",
    "df.head()"
   ]
  },
  {
   "cell_type": "code",
   "execution_count": 37,
   "id": "cebf31a2-3382-44b9-b909-3d82142d21ee",
   "metadata": {
    "tags": []
   },
   "outputs": [
    {
     "name": "stdout",
     "output_type": "stream",
     "text": [
      "<class 'pandas.core.frame.DataFrame'>\n",
      "DatetimeIndex: 2517 entries, 2023-08-11 to 2013-08-13\n",
      "Data columns (total 5 columns):\n",
      " #   Column      Non-Null Count  Dtype  \n",
      "---  ------      --------------  -----  \n",
      " 0   Close/Last  2517 non-null   float64\n",
      " 1   Volume      2517 non-null   int64  \n",
      " 2   Open        2517 non-null   float64\n",
      " 3   High        2517 non-null   float64\n",
      " 4   Low         2517 non-null   float64\n",
      "dtypes: float64(4), int64(1)\n",
      "memory usage: 118.0 KB\n"
     ]
    }
   ],
   "source": [
    "df.info()"
   ]
  },
  {
   "cell_type": "code",
   "execution_count": 38,
   "id": "a484ed28-1c8d-498b-bb90-46e86628f030",
   "metadata": {
    "tags": []
   },
   "outputs": [
    {
     "data": {
      "text/html": [
       "<div>\n",
       "<style scoped>\n",
       "    .dataframe tbody tr th:only-of-type {\n",
       "        vertical-align: middle;\n",
       "    }\n",
       "\n",
       "    .dataframe tbody tr th {\n",
       "        vertical-align: top;\n",
       "    }\n",
       "\n",
       "    .dataframe thead th {\n",
       "        text-align: right;\n",
       "    }\n",
       "</style>\n",
       "<table border=\"1\" class=\"dataframe\">\n",
       "  <thead>\n",
       "    <tr style=\"text-align: right;\">\n",
       "      <th></th>\n",
       "      <th>Close/Last</th>\n",
       "      <th>Volume</th>\n",
       "      <th>Open</th>\n",
       "      <th>High</th>\n",
       "      <th>Low</th>\n",
       "    </tr>\n",
       "    <tr>\n",
       "      <th>Date</th>\n",
       "      <th></th>\n",
       "      <th></th>\n",
       "      <th></th>\n",
       "      <th></th>\n",
       "      <th></th>\n",
       "    </tr>\n",
       "  </thead>\n",
       "  <tbody>\n",
       "    <tr>\n",
       "      <th>2023-08-11</th>\n",
       "      <td>177.790</td>\n",
       "      <td>52036670</td>\n",
       "      <td>177.320</td>\n",
       "      <td>178.62</td>\n",
       "      <td>176.5500</td>\n",
       "    </tr>\n",
       "    <tr>\n",
       "      <th>2023-08-10</th>\n",
       "      <td>177.970</td>\n",
       "      <td>54686850</td>\n",
       "      <td>179.480</td>\n",
       "      <td>180.75</td>\n",
       "      <td>177.6000</td>\n",
       "    </tr>\n",
       "    <tr>\n",
       "      <th>2023-08-09</th>\n",
       "      <td>178.190</td>\n",
       "      <td>60378490</td>\n",
       "      <td>180.870</td>\n",
       "      <td>180.93</td>\n",
       "      <td>177.0100</td>\n",
       "    </tr>\n",
       "    <tr>\n",
       "      <th>2023-08-08</th>\n",
       "      <td>179.800</td>\n",
       "      <td>67823000</td>\n",
       "      <td>179.690</td>\n",
       "      <td>180.27</td>\n",
       "      <td>177.5800</td>\n",
       "    </tr>\n",
       "    <tr>\n",
       "      <th>2023-08-07</th>\n",
       "      <td>178.850</td>\n",
       "      <td>97576070</td>\n",
       "      <td>182.130</td>\n",
       "      <td>183.13</td>\n",
       "      <td>177.3500</td>\n",
       "    </tr>\n",
       "    <tr>\n",
       "      <th>2023-08-04</th>\n",
       "      <td>181.990</td>\n",
       "      <td>115956800</td>\n",
       "      <td>185.520</td>\n",
       "      <td>187.38</td>\n",
       "      <td>181.9200</td>\n",
       "    </tr>\n",
       "    <tr>\n",
       "      <th>2023-08-03</th>\n",
       "      <td>191.170</td>\n",
       "      <td>62243280</td>\n",
       "      <td>191.570</td>\n",
       "      <td>192.37</td>\n",
       "      <td>190.6900</td>\n",
       "    </tr>\n",
       "    <tr>\n",
       "      <th>2023-08-02</th>\n",
       "      <td>192.580</td>\n",
       "      <td>50389330</td>\n",
       "      <td>195.040</td>\n",
       "      <td>195.18</td>\n",
       "      <td>191.8507</td>\n",
       "    </tr>\n",
       "    <tr>\n",
       "      <th>2023-08-01</th>\n",
       "      <td>195.605</td>\n",
       "      <td>35281430</td>\n",
       "      <td>196.235</td>\n",
       "      <td>196.73</td>\n",
       "      <td>195.2800</td>\n",
       "    </tr>\n",
       "  </tbody>\n",
       "</table>\n",
       "</div>"
      ],
      "text/plain": [
       "            Close/Last     Volume     Open    High       Low\n",
       "Date                                                        \n",
       "2023-08-11     177.790   52036670  177.320  178.62  176.5500\n",
       "2023-08-10     177.970   54686850  179.480  180.75  177.6000\n",
       "2023-08-09     178.190   60378490  180.870  180.93  177.0100\n",
       "2023-08-08     179.800   67823000  179.690  180.27  177.5800\n",
       "2023-08-07     178.850   97576070  182.130  183.13  177.3500\n",
       "2023-08-04     181.990  115956800  185.520  187.38  181.9200\n",
       "2023-08-03     191.170   62243280  191.570  192.37  190.6900\n",
       "2023-08-02     192.580   50389330  195.040  195.18  191.8507\n",
       "2023-08-01     195.605   35281430  196.235  196.73  195.2800"
      ]
     },
     "execution_count": 38,
     "metadata": {},
     "output_type": "execute_result"
    }
   ],
   "source": [
    "df.loc['2023-08-01':'2023-08-11']"
   ]
  },
  {
   "cell_type": "code",
   "execution_count": 39,
   "id": "9585b860-7830-4eed-8b77-9a1dde862a20",
   "metadata": {
    "tags": []
   },
   "outputs": [
    {
     "data": {
      "text/html": [
       "<div>\n",
       "<style scoped>\n",
       "    .dataframe tbody tr th:only-of-type {\n",
       "        vertical-align: middle;\n",
       "    }\n",
       "\n",
       "    .dataframe tbody tr th {\n",
       "        vertical-align: top;\n",
       "    }\n",
       "\n",
       "    .dataframe thead th {\n",
       "        text-align: right;\n",
       "    }\n",
       "</style>\n",
       "<table border=\"1\" class=\"dataframe\">\n",
       "  <thead>\n",
       "    <tr style=\"text-align: right;\">\n",
       "      <th></th>\n",
       "      <th>Close</th>\n",
       "      <th>Volume</th>\n",
       "      <th>Open</th>\n",
       "      <th>High</th>\n",
       "      <th>Low</th>\n",
       "    </tr>\n",
       "    <tr>\n",
       "      <th>Date</th>\n",
       "      <th></th>\n",
       "      <th></th>\n",
       "      <th></th>\n",
       "      <th></th>\n",
       "      <th></th>\n",
       "    </tr>\n",
       "  </thead>\n",
       "  <tbody>\n",
       "    <tr>\n",
       "      <th>2023-08-11</th>\n",
       "      <td>177.79</td>\n",
       "      <td>52036670</td>\n",
       "      <td>177.32</td>\n",
       "      <td>178.62</td>\n",
       "      <td>176.55</td>\n",
       "    </tr>\n",
       "    <tr>\n",
       "      <th>2023-08-10</th>\n",
       "      <td>177.97</td>\n",
       "      <td>54686850</td>\n",
       "      <td>179.48</td>\n",
       "      <td>180.75</td>\n",
       "      <td>177.60</td>\n",
       "    </tr>\n",
       "    <tr>\n",
       "      <th>2023-08-09</th>\n",
       "      <td>178.19</td>\n",
       "      <td>60378490</td>\n",
       "      <td>180.87</td>\n",
       "      <td>180.93</td>\n",
       "      <td>177.01</td>\n",
       "    </tr>\n",
       "    <tr>\n",
       "      <th>2023-08-08</th>\n",
       "      <td>179.80</td>\n",
       "      <td>67823000</td>\n",
       "      <td>179.69</td>\n",
       "      <td>180.27</td>\n",
       "      <td>177.58</td>\n",
       "    </tr>\n",
       "    <tr>\n",
       "      <th>2023-08-07</th>\n",
       "      <td>178.85</td>\n",
       "      <td>97576070</td>\n",
       "      <td>182.13</td>\n",
       "      <td>183.13</td>\n",
       "      <td>177.35</td>\n",
       "    </tr>\n",
       "  </tbody>\n",
       "</table>\n",
       "</div>"
      ],
      "text/plain": [
       "             Close    Volume    Open    High     Low\n",
       "Date                                                \n",
       "2023-08-11  177.79  52036670  177.32  178.62  176.55\n",
       "2023-08-10  177.97  54686850  179.48  180.75  177.60\n",
       "2023-08-09  178.19  60378490  180.87  180.93  177.01\n",
       "2023-08-08  179.80  67823000  179.69  180.27  177.58\n",
       "2023-08-07  178.85  97576070  182.13  183.13  177.35"
      ]
     },
     "execution_count": 39,
     "metadata": {},
     "output_type": "execute_result"
    }
   ],
   "source": [
    "df.rename(columns = {'Close/Last':'Close'}, inplace = True)\n",
    "df.head()"
   ]
  },
  {
   "cell_type": "code",
   "execution_count": 42,
   "id": "04f052ce-72fb-48b8-8709-2737f3aed58d",
   "metadata": {
    "tags": []
   },
   "outputs": [
    {
     "data": {
      "text/plain": [
       "Date\n",
       "2013-08-31     17.767436\n",
       "2013-09-30     17.149455\n",
       "2013-10-31     18.026587\n",
       "2013-11-30     18.736315\n",
       "2013-12-31     19.987790\n",
       "                 ...    \n",
       "2023-04-30    165.045789\n",
       "2023-05-31    172.622500\n",
       "2023-06-30    184.283333\n",
       "2023-07-31    192.411500\n",
       "2023-08-31    183.771667\n",
       "Freq: M, Name: Close, Length: 121, dtype: float64"
      ]
     },
     "execution_count": 42,
     "metadata": {},
     "output_type": "execute_result"
    }
   ],
   "source": [
    "df.Close.resample('M').mean()"
   ]
  },
  {
   "cell_type": "code",
   "execution_count": 45,
   "id": "c7e52e46-9ab9-477c-b1a5-6876e81284b3",
   "metadata": {
    "tags": []
   },
   "outputs": [
    {
     "data": {
      "text/plain": [
       "<Axes: xlabel='Date'>"
      ]
     },
     "execution_count": 45,
     "metadata": {},
     "output_type": "execute_result"
    },
    {
     "data": {
      "image/png": "[encoded data removed]",
      "text/plain": [
       "<Figure size 432x288 with 1 Axes>"
      ]
     },
     "metadata": {
      "needs_background": "light"
     },
     "output_type": "display_data"
    }
   ],
   "source": [
    "%matplotlib inline\n",
    "df.Close.resample('Y').mean().plot()"
   ]
  },
  {
   "cell_type": "code",
   "execution_count": 46,
   "id": "6a40c9ad-bcae-4cf8-b2ca-7277741d9f03",
   "metadata": {
    "tags": []
   },
   "outputs": [
    {
     "data": {
      "text/plain": [
       "<Axes: xlabel='Date'>"
      ]
     },
     "execution_count": 46,
     "metadata": {},
     "output_type": "execute_result"
    },
    {
     "data": {
      "image/png": "[encoded data removed]",
      "text/plain": [
       "<Figure size 432x288 with 1 Axes>"
      ]
     },
     "metadata": {
      "needs_background": "light"
     },
     "output_type": "display_data"
    }
   ],
   "source": [
    "%matplotlib inline\n",
    "df.Close.resample('M').mean().plot()"
   ]
  },
  {
   "cell_type": "code",
   "execution_count": 47,
   "id": "d3f72b83-0744-4390-8abb-87f11be38c02",
   "metadata": {
    "tags": []
   },
   "outputs": [
    {
     "data": {
      "text/plain": [
       "<Axes: xlabel='Date'>"
      ]
     },
     "execution_count": 47,
     "metadata": {},
     "output_type": "execute_result"
    },
    {
     "data": {
      "image/png": "[encoded data removed]",
      "text/plain": [
       "<Figure size 432x288 with 1 Axes>"
      ]
     },
     "metadata": {
      "needs_background": "light"
     },
     "output_type": "display_data"
    }
   ],
   "source": [
    "%matplotlib inline\n",
    "df.Close.resample('W').mean().plot()"
   ]
  },
  {
   "cell_type": "code",
   "execution_count": 48,
   "id": "2ded2a1c-57cc-4b69-9c26-a3927cf81c2a",
   "metadata": {
    "tags": []
   },
   "outputs": [
    {
     "data": {
      "text/plain": [
       "<Axes: xlabel='Date'>"
      ]
     },
     "execution_count": 48,
     "metadata": {},
     "output_type": "execute_result"
    },
    {
     "data": {
      "image/png": "[encoded data removed]",
      "text/plain": [
       "<Figure size 432x288 with 1 Axes>"
      ]
     },
     "metadata": {
      "needs_background": "light"
     },
     "output_type": "display_data"
    }
   ],
   "source": [
    "#quarterly frequency\n",
    "%matplotlib inline\n",
    "df.Close.resample('Q').mean().plot()"
   ]
  },
  {
   "cell_type": "code",
   "execution_count": 49,
   "id": "25fbd45c-8f3a-4af4-b3e7-127c6ea707b6",
   "metadata": {
    "tags": []
   },
   "outputs": [
    {
     "data": {
      "text/plain": [
       "<Axes: xlabel='Date'>"
      ]
     },
     "execution_count": 49,
     "metadata": {},
     "output_type": "execute_result"
    },
    {
     "data": {
      "image/png": "[encoded data removed]",
      "text/plain": [
       "<Figure size 432x288 with 1 Axes>"
      ]
     },
     "metadata": {
      "needs_background": "light"
     },
     "output_type": "display_data"
    }
   ],
   "source": [
    "#daily closing price chart\n",
    "df.Close.plot()"
   ]
  },
  {
   "cell_type": "code",
   "execution_count": null,
   "id": "dbbe4a30-a857-4638-90cd-8ea6d2758242",
   "metadata": {},
   "outputs": [],
   "source": [
    "############################################Class 2###########################################################"
   ]
  },
  {
   "cell_type": "code",
   "execution_count": null,
   "id": "e771e2fb-9b22-4b97-b314-5a38f301928d",
   "metadata": {},
   "outputs": [],
   "source": []
  }
 ],
 "metadata": {
  "kernelspec": {
   "display_name": "Python 3 (ipykernel)",
   "language": "python",
   "name": "python3"
  },
  "language_info": {
   "codemirror_mode": {
    "name": "ipython",
    "version": 3
   },
   "file_extension": ".py",
   "mimetype": "text/x-python",
   "name": "python",
   "nbconvert_exporter": "python",
   "pygments_lexer": "ipython3",
   "version": "3.9.16"
  }
 },
 "nbformat": 4,
 "nbformat_minor": 5
}
